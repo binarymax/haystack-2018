{
 "cells": [
  {
   "cell_type": "code",
   "execution_count": 1,
   "metadata": {},
   "outputs": [],
   "source": [
    "import re\n",
    "import gensim\n",
    "from stop_words import get_stop_words\n",
    "from nltk import sent_tokenize,word_tokenize\n",
    "from nltk.stem.porter import PorterStemmer"
   ]
  },
  {
   "cell_type": "code",
   "execution_count": 2,
   "metadata": {},
   "outputs": [],
   "source": [
    "def tokenize(text):\n",
    "    word = re.compile('^[a-z]+$',re.IGNORECASE)\n",
    "    en_stop = get_stop_words('en')\n",
    "    p_stemmer = PorterStemmer()\n",
    "    tokens = []\n",
    "    #for sent in sent_tokenize(text):\n",
    "    for tok in word_tokenize(text,preserve_line=False):\n",
    "        tok = tok.lower()\n",
    "        if tok not in en_stop:\n",
    "            term = word.match(tok)\n",
    "            if term is not None:\n",
    "                tokens.append(p_stemmer.stem(tok))\n",
    "    return tokens"
   ]
  },
  {
   "cell_type": "code",
   "execution_count": 3,
   "metadata": {
    "collapsed": true
   },
   "outputs": [],
   "source": [
    "def parse(files):\n",
    "    texts = []\n",
    "    for filename in files: # for each relevant file\n",
    "        texts.append(tokenize(open(filename,encoding=\"ISO-8859-1\").read()))\n",
    "    return texts"
   ]
  },
  {
   "cell_type": "code",
   "execution_count": 4,
   "metadata": {
    "collapsed": true
   },
   "outputs": [],
   "source": [
    "def classify(ldamodel,filename):\n",
    "    text = parse([filename])"
   ]
  },
  {
   "cell_type": "code",
   "execution_count": 5,
   "metadata": {
    "collapsed": true
   },
   "outputs": [],
   "source": [
    "def load(filename):\n",
    "    ldamodel = gensim.models.ldamodel.LdaModel.load(filename)\n",
    "    return ldamodel"
   ]
  },
  {
   "cell_type": "code",
   "execution_count": 6,
   "metadata": {
    "collapsed": true
   },
   "outputs": [],
   "source": [
    "def prepare(filename,num_topics=20,passes=20):\n",
    "    texts = [tokenize(open(filename,encoding=\"ISO-8859-1\").read())]\n",
    "    dictionary = gensim.corpora.Dictionary(texts)\n",
    "    corpus = [dictionary.doc2bow(text) for text in texts]\n",
    "    return corpus"
   ]
  },
  {
   "cell_type": "code",
   "execution_count": 7,
   "metadata": {
    "collapsed": true
   },
   "outputs": [],
   "source": [
    "files_fao = [\n",
    "    'data/test/a0011e00',\n",
    "    'data/test/a0126e00',\n",
    "    'data/test/a0184e00',\n",
    "    'data/test/a0276e00',\n",
    "    'data/test/a0469e00',\n",
    "    'data/test/a0541e00',\n",
    "    'data/test/a0549e00',\n",
    "    'data/test/a0587e00',\n",
    "    'data/test/ae080e00',\n",
    "    'data/test/ae228e00',\n",
    "    'data/test/ae403e00',\n",
    "    'data/test/ae937e00',\n",
    "    'data/test/ag091e00',\n",
    "    'data/test/ag093e00',\n",
    "    'data/test/ag101e00',\n",
    "    'data/test/ag102e00',\n",
    "    'data/test/ag387e00',\n",
    "    'data/test/ag868e00',\n",
    "    'data/test/alt_livelihood',\n",
    "    'data/test/at2050web',\n",
    "    'data/test/birdpre',\n",
    "    'data/test/cleveland02_ecosystems',\n",
    "    'data/test/ecology_letters_2004',\n",
    "    'data/test/hoagland_mre_2003',\n",
    "    'data/test/j1255e00',\n",
    "    'data/test/j6561e00',\n",
    "    'data/test/x6998e00',\n",
    "    'data/test/y5647e00',\n",
    "    'data/test/y5843e00',\n",
    "    'data/test/y6396e00'\n",
    "]\n",
    "files = map(lambda x:x+'.txt',files_fao)"
   ]
  },
  {
   "cell_type": "code",
   "execution_count": 9,
   "metadata": {},
   "outputs": [],
   "source": [
    "ldamodel = load('./lib/lda/ldamodel_check.pickle')"
   ]
  },
  {
   "cell_type": "code",
   "execution_count": 10,
   "metadata": {},
   "outputs": [
    {
     "name": "stdout",
     "output_type": "stream",
     "text": [
      "=============== data/test/a0011e00.txt ===================\n",
      "--------------------------------\n",
      "0.019*\"forest\" + 0.011*\"forestri\" + 0.009*\"develop\" + 0.008*\"product\" + 0.008*\"fao\" + 0.007*\"countri\" + 0.007*\"unit\" + 0.006*\"de\" + 0.006*\"committe\" + 0.006*\"wood\"\n",
      "--------------------------------\n",
      "0.014*\"forest\" + 0.008*\"forestri\" + 0.006*\"product\" + 0.005*\"develop\" + 0.005*\"countri\" + 0.004*\"industri\" + 0.004*\"wood\" + 0.004*\"unit\" + 0.004*\"de\" + 0.004*\"will\"\n"
     ]
    }
   ],
   "source": [
    "check = ['data/test/a0011e00.txt']\n",
    "for file in files:\n",
    "    print('===============',file,'===================')\n",
    "    bow = prepare(file)\n",
    "    topics = ldamodel.get_document_topics(bow)\n",
    "    for topic in topics[0]:\n",
    "        print('--------------------------------')\n",
    "        print(ldamodel.print_topic(topic[0]))\n"
   ]
  },
  {
   "cell_type": "code",
   "execution_count": null,
   "metadata": {
    "collapsed": true
   },
   "outputs": [],
   "source": []
  }
 ],
 "metadata": {
  "kernelspec": {
   "display_name": "Python 3",
   "language": "python",
   "name": "python3"
  },
  "language_info": {
   "codemirror_mode": {
    "name": "ipython",
    "version": 3
   },
   "file_extension": ".py",
   "mimetype": "text/x-python",
   "name": "python",
   "nbconvert_exporter": "python",
   "pygments_lexer": "ipython3",
   "version": "3.6.1"
  }
 },
 "nbformat": 4,
 "nbformat_minor": 2
}
