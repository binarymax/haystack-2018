{
 "cells": [
  {
   "cell_type": "code",
   "execution_count": 1,
   "metadata": {
    "collapsed": true
   },
   "outputs": [],
   "source": [
    "import glob\n",
    "from lib.hearst.hp import HearstPatterns\n",
    "from lib.skos import strToUri,SKOS\n",
    "from IPython.display import Image"
   ]
  },
  {
   "cell_type": "code",
   "execution_count": 2,
   "metadata": {
    "collapsed": true
   },
   "outputs": [],
   "source": [
    "def parse(filename):\n",
    "    txt = open(filename,\"r\").read()\n",
    "    return txt"
   ]
  },
  {
   "cell_type": "code",
   "execution_count": 3,
   "metadata": {
    "collapsed": true
   },
   "outputs": [],
   "source": [
    "def taxonomy(filelist):\n",
    "    h = HearstPatterns()\n",
    "    kos = SKOS()\n",
    "    base = u'http://example.com/'\n",
    "    scheme1 = kos.scheme(u'http://example.com/test1-scheme',u'Test1 Scheme','test1-scheme')\n",
    "    for filename in filelist:\n",
    "        txt = parse(filename)\n",
    "        hyp = h.find_hyponyms(txt)\n",
    "        for rel in hyp:\n",
    "            lab1 = rel[0]\n",
    "            lab2 = rel[1]\n",
    "            id1 = strToUri(lab1)\n",
    "            id2 = strToUri(lab2)\n",
    "            uri1 = base + id1\n",
    "            uri2 = base + id2\n",
    "            nar = scheme1.concept(uri1,id1)\n",
    "            brd = scheme1.concept(uri2,id2)\n",
    "            nar.label(lab1,lang=u'en',isPref=True)\n",
    "            brd.label(lab2,lang=u'en',isPref=True)\n",
    "            scheme1.narrower(uri2,uri1)\n",
    "    return kos"
   ]
  },
  {
   "cell_type": "code",
   "execution_count": 4,
   "metadata": {
    "collapsed": true
   },
   "outputs": [],
   "source": [
    "files = glob.glob(\"./content/osc/data/*.txt\")"
   ]
  },
  {
   "cell_type": "code",
   "execution_count": 5,
   "metadata": {},
   "outputs": [
    {
     "name": "stdout",
     "output_type": "stream",
     "text": [
      "NP_colleagues\n",
      "['NP_MSMIT_program', 'NP_colleagues']\n",
      "NP_people\n",
      "['NP_pals', 'NP_people']\n",
      "NP_analytics\n",
      "['NP_traffic_reports', 'NP_analytics']\n",
      "NP_entities\n",
      "['NP_numbers', 'NP_images', 'NP_entities']\n",
      "NP_counties\n",
      "['NP_Albemarle', 'NP_Green', 'NP_Augusta', 'NP_counties']\n",
      "NP_data_stores\n",
      "['NP_video_rental', 'NP_data_stores']\n",
      "NP_times\n",
      "['NP_Ruby_DateTime_objects', 'NP_times']\n",
      "NP_refreshments\n",
      "['NP_wine', 'NP_beer', 'NP_refreshments']\n",
      "NP_statistics\n",
      "['NP_the_document_frequency', 'NP_statistics']\n",
      "NP_uses\n",
      "['NP_the_event', 'NP_uses']\n",
      "NP_techniques\n",
      "['NP_PhoneGap', 'NP_techniques']\n",
      "NP_packages\n",
      "['NP_tools', 'NP_language_runtimes', 'NP_packages']\n",
      "NP_nodes\n",
      "['NP_the_extant_token_space', 'NP_nodes']\n",
      "NP_things\n",
      "['NP_family_computers', 'NP_things']\n",
      "NP_properties\n",
      "['NP_access', 'NP_properties']\n",
      "NP_products\n",
      "['NP_Hello_Barbie', 'NP_products']\n",
      "NP_systems\n",
      "['NP_results', 'NP_recommendations', 'NP_systems']\n",
      "NP_Solr_services\n",
      "['NP_Solr_Workshop', 'NP_Solr_services']\n",
      "NP_agencies\n",
      "['NP_DISA', 'NP_agencies']\n",
      "NP_bits\n",
      "['NP_the_search', 'NP_recommendations', 'NP_advertising', 'NP_bits']\n",
      "NP_features\n",
      "['NP_employees', 'NP_features']\n",
      "NP_partners\n",
      "['NP_parents', 'NP_teachers', 'NP_partners']\n",
      "NP_methods\n",
      "['NP_vs', 'NP_methods']\n",
      "NP_entities\n",
      "['NP_diseases', 'NP_drugs', 'NP_entities']\n",
      "NP_parameters\n",
      "['NP_relevancy_settings_boosts', 'NP_parameters']\n",
      "NP_solutions\n",
      "['NP_the_storage_problem', 'NP_solutions']\n",
      "NP_methods\n",
      "['NP_vs', 'NP_methods']\n",
      "NP_AWS_resources\n",
      "['NP_EC2_instances', 'NP_AWS_resources']\n",
      "NP_variables\n",
      "['NP_traffic', 'NP_variables']\n",
      "NP_means\n",
      "['NP_record_data', 'NP_means']\n",
      "NP_times\n",
      "['NP_structures', 'NP_times']\n",
      "NP_settings\n",
      "['NP_Stopwords', 'NP_settings']\n",
      "NP_developers\n",
      "['NP_Perl', 'NP_developers']\n",
      "NP_times\n",
      "['NP_the_synonym_analyzer', 'NP_times']\n",
      "NP_capabilities_Notice\n",
      "['NP_explain', 'NP_capabilities_Notice']\n",
      "NP_steps\n",
      "['NP_filters', 'NP_steps']\n",
      "NP_techniques\n",
      "['NP_complex_scoring_models', 'NP_latent_semantic_indexing', 'NP_natural_language_processing', 'NP_techniques']\n",
      "NP_nouns\n",
      "['NP_all_important_philosophy_jargon', 'NP_topics', 'NP_nouns']\n",
      "NP_forms\n",
      "['NP_SEO', 'NP_forms']\n",
      "NP_times\n",
      "['NP_errors', 'NP_times']\n",
      "NP_signals\n",
      "['NP_click_tracking', 'NP_signals']\n",
      "NP_forms\n",
      "['NP_Image_search', 'NP_forms']\n",
      "NP_assets\n",
      "['NP_content_properties', 'NP_assets']\n"
     ]
    }
   ],
   "source": [
    "kos = taxonomy(files)"
   ]
  },
  {
   "cell_type": "code",
   "execution_count": 7,
   "metadata": {
    "collapsed": true
   },
   "outputs": [],
   "source": [
    "graphs = kos.dot(engine='dot',format='pdf')\n",
    "graphid = 0\n",
    "for graph in graphs:\n",
    "    graphid += 1\n",
    "    filename='./graphs/graph_'+str(graphid)+'.pdf'\n",
    "    graph.render(filename,view=True)"
   ]
  },
  {
   "cell_type": "code",
   "execution_count": null,
   "metadata": {
    "collapsed": true
   },
   "outputs": [],
   "source": []
  }
 ],
 "metadata": {
  "kernelspec": {
   "display_name": "Python 3",
   "language": "python",
   "name": "python3"
  },
  "language_info": {
   "codemirror_mode": {
    "name": "ipython",
    "version": 3
   },
   "file_extension": ".py",
   "mimetype": "text/x-python",
   "name": "python",
   "nbconvert_exporter": "python",
   "pygments_lexer": "ipython3",
   "version": "3.6.1"
  }
 },
 "nbformat": 4,
 "nbformat_minor": 2
}
