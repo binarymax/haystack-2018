{
 "cells": [
  {
   "cell_type": "code",
   "execution_count": 1,
   "metadata": {
    "collapsed": true
   },
   "outputs": [],
   "source": [
    "import lib.skos\n",
    "from lib.rake.rake_extract import rake_extract\n",
    "from lib.skipchunk.skipchunk_extract import skipchunk_extract"
   ]
  },
  {
   "cell_type": "code",
   "execution_count": 2,
   "metadata": {
    "collapsed": true
   },
   "outputs": [],
   "source": [
    "files_fao = [\n",
    "    'data/test/a0011e00',\n",
    "    'data/test/a0126e00',\n",
    "    'data/test/a0184e00',\n",
    "    'data/test/a0276e00',\n",
    "    'data/test/a0469e00',\n",
    "    'data/test/a0541e00',\n",
    "    'data/test/a0549e00',\n",
    "    'data/test/a0587e00',\n",
    "    'data/test/ae080e00',\n",
    "    'data/test/ae228e00',\n",
    "    'data/test/ae403e00',\n",
    "    'data/test/ae937e00',\n",
    "    'data/test/ag091e00',\n",
    "    'data/test/ag093e00',\n",
    "    'data/test/ag101e00',\n",
    "    'data/test/ag102e00',\n",
    "    'data/test/ag387e00',\n",
    "    'data/test/ag868e00',\n",
    "    'data/test/alt_livelihood',\n",
    "    'data/test/at2050web',\n",
    "    'data/test/birdpre',\n",
    "    'data/test/cleveland02_ecosystems',\n",
    "    'data/test/ecology_letters_2004',\n",
    "    'data/test/hoagland_mre_2003',\n",
    "    'data/test/j1255e00',\n",
    "    'data/test/j6561e00',\n",
    "    'data/test/x6998e00',\n",
    "    'data/test/y5647e00',\n",
    "    'data/test/y5843e00',\n",
    "    'data/test/y6396e00'\n",
    "]"
   ]
  },
  {
   "cell_type": "code",
   "execution_count": 3,
   "metadata": {
    "collapsed": true
   },
   "outputs": [],
   "source": [
    "def fmeasure(keys,test):\n",
    "    true_positives = 0\n",
    "    false_positives = 0\n",
    "    for t in test:\n",
    "        if t in keys:\n",
    "            true_positives += 1\n",
    "        else:\n",
    "            false_positives += 1\n",
    "    \n",
    "    precision_denom = true_positives + false_positives\n",
    "    recall_denom = len(keys)\n",
    "    \n",
    "    precision = true_positives / precision_denom\n",
    "    recall = true_positives / recall_denom\n",
    "    \n",
    "    f1 = 2 / ( (1/precision) + (1/recall) )\n",
    "    \n",
    "    return f1,precision,recall"
   ]
  },
  {
   "cell_type": "code",
   "execution_count": 4,
   "metadata": {
    "collapsed": true
   },
   "outputs": [],
   "source": [
    "def parse(filename,encoding='utf-8'):\n",
    "    file = open(filename,\"r\",encoding=encoding)\n",
    "    text = file.read()\n",
    "    file.close()\n",
    "    return text"
   ]
  },
  {
   "cell_type": "code",
   "execution_count": 5,
   "metadata": {
    "collapsed": true
   },
   "outputs": [],
   "source": [
    "def measure_rake(files):\n",
    "    rake_results = dict()\n",
    "    for file in files:\n",
    "        textfile = file + '.txt'\n",
    "        keyfile = file + '.key'\n",
    "        keys = parse(keyfile)\n",
    "        rake_keywords = rake_extract([textfile],stopwords='lib/rake/SmartStoplist.txt',encoding = \"ISO-8859-1\")\n",
    "        test = map(lambda x:x[0],rake_keywords)\n",
    "        f1,precision,recall = fmeasure(keys,test)\n",
    "        rake_results[file] = [f1,precision,recall]\n",
    "        print(file,f1,precision,recall)"
   ]
  },
  {
   "cell_type": "code",
   "execution_count": 6,
   "metadata": {
    "collapsed": true
   },
   "outputs": [],
   "source": [
    "def measure_skipchunk(files):\n",
    "    skipchunk_results = dict()\n",
    "    for file in files:\n",
    "        textfile = file + '.txt'\n",
    "        keyfile = file + '.key'\n",
    "        keys = parse(keyfile)\n",
    "        skipchunk_keywords,_ = skipchunk_extract([textfile],encoding = \"ISO-8859-1\")\n",
    "        test = map(lambda x:skipchunk_keywords[x][0][2],skipchunk_keywords.keys())\n",
    "        f1,precision,recall = fmeasure(keys,test)\n",
    "        skipchunk_results[file] = [f1,precision,recall]\n",
    "        print(file,f1,precision,recall)"
   ]
  },
  {
   "cell_type": "code",
   "execution_count": 7,
   "metadata": {},
   "outputs": [
    {
     "name": "stdout",
     "output_type": "stream",
     "text": [
      "data/test/a0011e00 0.05555555555555555 0.16477272727272727 0.03341013824884793\n",
      "data/test/a0126e00 0.03678929765886288 0.10091743119266056 0.022494887525562373\n",
      "data/test/a0184e00 0.04376012965964343 0.08083832335329341 0.03\n",
      "data/test/a0276e00 0.07370393504059963 0.09262166405023547 0.061203319502074686\n",
      "data/test/a0469e00 0.05314685314685314 0.2878787878787879 0.029275808936825885\n",
      "data/test/a0541e00 0.03868194842406877 0.06108597285067873 0.02830188679245283\n",
      "data/test/a0549e00 0.04565083281924738 0.03952991452991453 0.05401459854014599\n",
      "data/test/a0587e00 0.042643923240938165 0.1941747572815534 0.023952095808383235\n",
      "data/test/ae080e00 0.04158004158004158 0.08547008547008547 0.027472527472527472\n",
      "data/test/ae228e00 0.020247469066366704 0.10227272727272728 0.011235955056179775\n",
      "data/test/ae403e00 0.01534526854219949 0.06 0.008797653958944282\n",
      "data/test/ae937e00 0.02072538860103627 0.16161616161616163 0.011072664359861591\n",
      "data/test/ag091e00 0.032692307692307694 0.10429447852760736 0.019384264538198404\n",
      "data/test/ag093e00 0.03868194842406877 0.05672268907563025 0.029347826086956522\n",
      "data/test/ag101e00 0.03756708407871198 0.0995260663507109 0.023153252480705624\n",
      "data/test/ag102e00 0.04671532846715328 0.056338028169014086 0.0399002493765586\n",
      "data/test/ag387e00 0.032564450474898234 0.09917355371900827 0.01948051948051948\n",
      "data/test/ag868e00 0.04358974358974359 0.14782608695652175 0.02556390977443609\n",
      "data/test/alt_livelihood 0.027290448343079924 0.14 0.01511879049676026\n",
      "data/test/at2050web 0.04803843074459568 0.07537688442211055 0.03525264394829612\n",
      "data/test/birdpre 0.031347962382445145 0.1282051282051282 0.017857142857142856\n",
      "data/test/cleveland02_ecosystems 0.02373887240356083 0.14814814814814814 0.012903225806451613\n",
      "data/test/ecology_letters_2004 0.010330578512396695 0.14285714285714285 0.0053590568060021436\n",
      "data/test/hoagland_mre_2003 0.023474178403755867 0.1111111111111111 0.013123359580052493\n",
      "data/test/j1255e00 0.04100652376514445 0.07432432432432433 0.028314028314028315\n",
      "data/test/j6561e00 0.033264033264033266 0.08 0.02099737532808399\n",
      "data/test/x6998e00 0.02262443438914027 0.25 0.011848341232227487\n",
      "data/test/y5647e00 0.029391182645206435 0.06140350877192982 0.019319227230910764\n",
      "data/test/y5843e00 0.015340364333652923 0.26666666666666666 0.007897334649555774\n",
      "data/test/y6396e00 0.04897159647404505 0.06648936170212766 0.03875968992248062\n"
     ]
    }
   ],
   "source": [
    "measure_rake(files_fao)"
   ]
  },
  {
   "cell_type": "code",
   "execution_count": 7,
   "metadata": {},
   "outputs": [
    {
     "name": "stdout",
     "output_type": "stream",
     "text": [
      "data/test/a0011e00 0.008434864104967197 0.0071090047393364926 0.010368663594470046\n",
      "data/test/a0126e00 0.006926406926406926 0.006006006006006006 0.0081799591002045\n",
      "data/test/a0184e00 0.0032102728731942215 0.002257336343115124 0.005555555555555556\n",
      "data/test/a0276e00 0.006061754120098503 0.0037079953650057938 0.016597510373443983\n",
      "data/test/a0469e00 0.008264462809917356 0.007471980074719801 0.009244992295839754\n",
      "data/test/a0541e00 0.002933165723863398 0.001832940560356114 0.007337526205450734\n",
      "data/test/a0549e00 0.001491869312248247 0.0008308408109006315 0.0072992700729927005\n",
      "data/test/a0587e00 0.004481792717086834 0.004210526315789474 0.004790419161676647\n",
      "data/test/ae080e00 0.0034834535954217467 0.0023915271609156134 0.00641025641025641\n",
      "data/test/ae228e00 0.0035419126328217233 0.0033594624860022394 0.003745318352059925\n",
      "data/test/ae403e00 0.002768166089965398 0.002621231979030144 0.002932551319648094\n",
      "data/test/ae937e00 0.006763285024154589 0.0112 0.004844290657439446\n",
      "data/test/ag091e00 0.00337126000842815 0.00267379679144385 0.004561003420752566\n",
      "data/test/ag093e00 0.0019134178426213825 0.0012266176019625882 0.004347826086956522\n",
      "data/test/ag101e00 0.006756756756756757 0.005122367672168469 0.009922822491730982\n",
      "data/test/ag102e00 0.0019704433497536944 0.0011701380762930026 0.006234413965087282\n",
      "data/test/ag387e00 0.002041858090862685 0.0014892032762472078 0.003246753246753247\n",
      "data/test/ag868e00 0.008064516129032258 0.006535947712418301 0.010526315789473684\n",
      "data/test/alt_livelihood 0.0034285714285714284 0.0036407766990291263 0.0032397408207343412\n",
      "data/test/at2050web 0.004292997048564529 0.0027816411682892906 0.009400705052878966\n",
      "data/test/birdpre 0.0016 0.0014492753623188406 0.0017857142857142857\n",
      "data/test/cleveland02_ecosystems 0.00739566825145272 0.007268951194184839 0.007526881720430108\n",
      "data/test/ecology_letters_2004 0.00306044376434583 0.0053475935828877 0.0021436227224008574\n",
      "data/test/hoagland_mre_2003 0.006169031462060457 0.005820721769499418 0.006561679790026247\n",
      "data/test/j1255e00 0.006351222610352492 0.0042158516020236085 0.01287001287001287\n",
      "data/test/j6561e00 0.003020007550018875 0.0021197668256491787 0.005249343832020997\n",
      "data/test/x6998e00 0.010680907877169559 0.012232415902140673 0.009478672985781991\n",
      "data/test/y5647e00 0.005699481865284974 0.003966822935448972 0.010119595216191352\n",
      "data/test/y5843e00 0.005079365079365079 0.0071174377224199285 0.003948667324777887\n",
      "data/test/y6396e00 0.006309148264984227 0.0044472681067344345 0.010852713178294573\n"
     ]
    }
   ],
   "source": [
    "measure_skipchunk(files_fao)"
   ]
  },
  {
   "cell_type": "code",
   "execution_count": null,
   "metadata": {
    "collapsed": true
   },
   "outputs": [],
   "source": []
  }
 ],
 "metadata": {
  "kernelspec": {
   "display_name": "Python 3",
   "language": "python",
   "name": "python3"
  },
  "language_info": {
   "codemirror_mode": {
    "name": "ipython",
    "version": 3
   },
   "file_extension": ".py",
   "mimetype": "text/x-python",
   "name": "python",
   "nbconvert_exporter": "python",
   "pygments_lexer": "ipython3",
   "version": "3.6.1"
  }
 },
 "nbformat": 4,
 "nbformat_minor": 2
}
