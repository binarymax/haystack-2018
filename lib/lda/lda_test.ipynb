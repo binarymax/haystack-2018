{
 "cells": [
  {
   "cell_type": "code",
   "execution_count": 1,
   "metadata": {
    "collapsed": true
   },
   "outputs": [],
   "source": [
    "import gensim"
   ]
  },
  {
   "cell_type": "code",
   "execution_count": 2,
   "metadata": {
    "collapsed": true
   },
   "outputs": [],
   "source": [
    "def prepare(texts):\n",
    "    dictionary = gensim.corpora.Dictionary(texts)\n",
    "    corpus = [dictionary.doc2bow(text) for text in texts]\n",
    "    return dictionary,corpus"
   ]
  },
  {
   "cell_type": "code",
   "execution_count": 3,
   "metadata": {
    "collapsed": true
   },
   "outputs": [],
   "source": [
    "def train(texts,num_topics=20,passes=20):\n",
    "    dictionary,corpus = prepare(texts)\n",
    "    ldamodel = gensim.models.ldamodel.LdaModel(corpus, num_topics=num_topics, id2word = dictionary, passes=passes)\n",
    "    return ldamodel"
   ]
  },
  {
   "cell_type": "code",
   "execution_count": 4,
   "metadata": {
    "collapsed": true
   },
   "outputs": [],
   "source": [
    "def save(ldamodel):\n",
    "    ldamodel.save('ldamodel_test', separately=None, sep_limit=10485760, ignore=frozenset([]), pickle_protocol=2)"
   ]
  },
  {
   "cell_type": "code",
   "execution_count": 10,
   "metadata": {
    "collapsed": true
   },
   "outputs": [],
   "source": [
    "def load(filename):\n",
    "    ldamodel = gensim.models.ldamodel.LdaModel.load(filename)\n",
    "    return ldamodel"
   ]
  },
  {
   "cell_type": "code",
   "execution_count": 6,
   "metadata": {
    "collapsed": true
   },
   "outputs": [],
   "source": [
    "train_data = [\n",
    "    ['the','cat','in','the','hat'],\n",
    "    ['jumped','on','the','mat'],\n",
    "    ['and','had','a','nice','chat']\n",
    "]\n",
    "test_data = [\n",
    "    ['cat','had','a','chat']\n",
    "]"
   ]
  },
  {
   "cell_type": "code",
   "execution_count": 7,
   "metadata": {},
   "outputs": [],
   "source": [
    "#Create the model\n",
    "model_trained = train(train_data,num_topics=2,passes=5)"
   ]
  },
  {
   "cell_type": "code",
   "execution_count": 8,
   "metadata": {},
   "outputs": [],
   "source": [
    "save(model_trained)"
   ]
  },
  {
   "cell_type": "code",
   "execution_count": 11,
   "metadata": {},
   "outputs": [
    {
     "name": "stdout",
     "output_type": "stream",
     "text": [
      "LdaModel(num_terms=12, num_topics=2, decay=0.5, chunksize=2000)\n"
     ]
    }
   ],
   "source": [
    "#Test the model\n",
    "model_loaded = load('ldamodel_test')\n",
    "print(model_loaded) #None\n",
    "testdict,testcorpus = prepare(test_data)\n",
    "topics = model_loaded.get_document_topics(testcorpus) #AttributeError: 'NoneType' object has no attribute 'get_document_topics'"
   ]
  },
  {
   "cell_type": "code",
   "execution_count": 12,
   "metadata": {},
   "outputs": [
    {
     "name": "stdout",
     "output_type": "stream",
     "text": [
      "0.102*\"a\" + 0.101*\"and\" + 0.101*\"had\" + 0.101*\"nice\" + 0.101*\"chat\" + 0.099*\"mat\" + 0.099*\"on\" + 0.098*\"jumped\" + 0.090*\"the\" + 0.036*\"cat\"\n",
      "0.236*\"the\" + 0.131*\"hat\" + 0.130*\"in\" + 0.130*\"cat\" + 0.050*\"jumped\" + 0.049*\"on\" + 0.049*\"mat\" + 0.045*\"chat\" + 0.045*\"nice\" + 0.045*\"had\"\n"
     ]
    }
   ],
   "source": [
    "for t in topics[0]:\n",
    "    print(model_loaded.print_topic(t[0]))"
   ]
  },
  {
   "cell_type": "code",
   "execution_count": null,
   "metadata": {
    "collapsed": true
   },
   "outputs": [],
   "source": []
  }
 ],
 "metadata": {
  "kernelspec": {
   "display_name": "Python 3",
   "language": "python",
   "name": "python3"
  },
  "language_info": {
   "codemirror_mode": {
    "name": "ipython",
    "version": 3
   },
   "file_extension": ".py",
   "mimetype": "text/x-python",
   "name": "python",
   "nbconvert_exporter": "python",
   "pygments_lexer": "ipython3",
   "version": "3.6.1"
  }
 },
 "nbformat": 4,
 "nbformat_minor": 2
}
