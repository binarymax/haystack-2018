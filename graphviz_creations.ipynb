{
 "cells": [
  {
   "cell_type": "code",
   "execution_count": 1,
   "metadata": {
    "collapsed": true
   },
   "outputs": [],
   "source": [
    "from graphviz import Digraph\n",
    "\n",
    "'''\n",
    "Layout Engines:\n",
    "    circo \n",
    "    dot \n",
    "    fdp \n",
    "    neato \n",
    "    osage \n",
    "    patchwork \n",
    "    sfdp \n",
    "    twopi \n",
    "'''"
   ]
  },
  {
   "cell_type": "code",
   "execution_count": 2,
   "metadata": {},
   "outputs": [
    {
     "data": {
      "text/plain": [
       "'./meronymy_example.pdf.pdf'"
      ]
     },
     "execution_count": 2,
     "metadata": {},
     "output_type": "execute_result"
    }
   ],
   "source": [
    "#Meronymy\n",
    "D = Digraph(format='pdf')\n",
    "D.edge('body','arm')\n",
    "D.edge('body','leg')\n",
    "D.edge('arm','elbow')\n",
    "D.edge('arm','hand')\n",
    "D.edge('hand','finger')\n",
    "D.edge('hand','thumb')\n",
    "D.edge('leg','knee')\n",
    "D.edge('leg','foot')\n",
    "D.edge('foot','ankle')\n",
    "D.edge('foot','toe')\n",
    "D.render('./graphs/meronymy_example.pdf',view=True)"
   ]
  },
  {
   "cell_type": "code",
   "execution_count": 3,
   "metadata": {},
   "outputs": [
    {
     "data": {
      "text/plain": [
       "'./hyponomy_example.pdf.pdf'"
      ]
     },
     "execution_count": 3,
     "metadata": {},
     "output_type": "execute_result"
    }
   ],
   "source": [
    "#Hyponymy\n",
    "D = Digraph(format='pdf')\n",
    "D.edge('color','red')\n",
    "D.edge('color','green')\n",
    "D.edge('color','blue')\n",
    "D.edge('red','crimson')\n",
    "D.edge('red','maroon')\n",
    "D.render('./graphs/hyponomy_example.pdf',view=True)"
   ]
  },
  {
   "cell_type": "code",
   "execution_count": 4,
   "metadata": {
    "collapsed": true
   },
   "outputs": [],
   "source": [
    "def parse(filename):\n",
    "    txt = open(filename,\"r\").read()\n",
    "    return txt"
   ]
  },
  {
   "cell_type": "code",
   "execution_count": 31,
   "metadata": {},
   "outputs": [
    {
     "data": {
      "text/plain": [
       "'./graphs/taxi_example.pdf.pdf'"
      ]
     },
     "execution_count": 31,
     "metadata": {},
     "output_type": "execute_result"
    }
   ],
   "source": [
    "#taxi sample output\n",
    "taxifile = './lib/taxi/vocabularies/science_en.csv-space-relations.csv-taxo.csv'\n",
    "taxi = map(lambda x:x.split('\\t'),parse(taxifile).split('\\n'))\n",
    "T = Digraph(format='pdf',engine='dot')\n",
    "for t in taxi:\n",
    "    if(len(t)==3):\n",
    "        T.edge(t[2],t[1])\n",
    "T.render('./graphs/taxi_example.pdf',view=True)"
   ]
  },
  {
   "cell_type": "code",
   "execution_count": 40,
   "metadata": {
    "collapsed": true
   },
   "outputs": [],
   "source": [
    "#taxi DOT output\n",
    "taxifile = './lib/taxi/vocabularies/science_en.csv-space-relations.csv-taxo.csv'\n",
    "taxi = map(lambda x:x.split('\\t'),parse(taxifile).split('\\n'))\n",
    "T = Digraph()\n",
    "found = []\n",
    "nodex = 0\n",
    "nodes = dict()\n",
    "for t in taxi:\n",
    "    if len(t)==3:\n",
    "        if t[1] not in nodes.keys():\n",
    "            nodex += 1\n",
    "            nodeid = 'T' + str(nodex)\n",
    "            nodes[t[1]] = nodeid\n",
    "            T.node(nodeid,t[1])\n",
    "        if t[2] not in nodes.keys():\n",
    "            nodex += 1\n",
    "            nodeid = 'T' + str(nodex)\n",
    "            nodes[t[2]] = nodeid\n",
    "            T.node(nodeid,t[2])\n",
    "        if t[1] not in found:\n",
    "            T.edge(nodes[t[2]],nodes[t[1]])\n",
    "            found.append(t[2])\n",
    "tdot = open('./graphs/taxi_oneway_example2.dot', \"w\")\n",
    "tdot.write(T.source)\n",
    "tdot.close()"
   ]
  },
  {
   "cell_type": "code",
   "execution_count": 42,
   "metadata": {},
   "outputs": [
    {
     "data": {
      "text/plain": [
       "'./graphs/hyponomy_searchengine.pdf.pdf'"
      ]
     },
     "execution_count": 42,
     "metadata": {},
     "output_type": "execute_result"
    }
   ],
   "source": [
    "#Hyponymy\n",
    "D = Digraph(format='pdf')\n",
    "D.edge('search engine','Google')\n",
    "D.edge('search engine','Bing')\n",
    "D.edge('search engine','Yahoo')\n",
    "D.render('./graphs/hyponomy_searchengine.pdf',view=True)"
   ]
  },
  {
   "cell_type": "code",
   "execution_count": null,
   "metadata": {
    "collapsed": true
   },
   "outputs": [],
   "source": []
  }
 ],
 "metadata": {
  "kernelspec": {
   "display_name": "Python 3",
   "language": "python",
   "name": "python3"
  },
  "language_info": {
   "codemirror_mode": {
    "name": "ipython",
    "version": 3
   },
   "file_extension": ".py",
   "mimetype": "text/x-python",
   "name": "python",
   "nbconvert_exporter": "python",
   "pygments_lexer": "ipython3",
   "version": "3.6.1"
  }
 },
 "nbformat": 4,
 "nbformat_minor": 2
}
